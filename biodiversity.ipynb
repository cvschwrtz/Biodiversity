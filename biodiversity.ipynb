{
 "cells": [
  {
   "cell_type": "markdown",
   "source": [
    "# Introduction\r\n",
    "\r\n",
    "This goal of this project is to analyze biodiversity data from the National Parks Service, particularly around various species observed in different national park locations.\r\n",
    "\r\n",
    "This project will scope, analyze, prepare, plot data, and seek to explain the findings from the analysis.\r\n",
    "\r\n",
    "Here are a few questions that this project has sought to answer:\r\n",
    "\r\n",
    "- What is the distribution of conservation status for species?\r\n",
    "- Are certain types of species more likely to be endangered?\r\n",
    "- Are the differences between species and their conservation status significant?\r\n",
    "- Which animal is most prevalent and what is their distribution amongst parks?"
   ],
   "metadata": {}
  },
  {
   "cell_type": "markdown",
   "source": [
    "# Import Data"
   ],
   "metadata": {}
  },
  {
   "cell_type": "code",
   "execution_count": 2,
   "source": [
    "import pandas as pd\r\n",
    "import seaborn as sns\r\n",
    "import numpy as np\r\n",
    "import matplotlib.ticker as mtick\r\n",
    "from matplotlib import pyplot as plt\r\n",
    "\r\n",
    "observations = pd.read_csv('observations.csv')\r\n",
    "species = pd.read_csv('species_info.csv')"
   ],
   "outputs": [],
   "metadata": {}
  },
  {
   "cell_type": "markdown",
   "source": [
    "# Analyze and Explore Data"
   ],
   "metadata": {}
  },
  {
   "cell_type": "code",
   "execution_count": null,
   "source": [],
   "outputs": [],
   "metadata": {}
  }
 ],
 "metadata": {
  "kernelspec": {
   "name": "python3",
   "display_name": "Python 3.9.6 64-bit (windows store)"
  },
  "language_info": {
   "codemirror_mode": {
    "name": "ipython",
    "version": 3
   },
   "file_extension": ".py",
   "mimetype": "text/x-python",
   "name": "python",
   "nbconvert_exporter": "python",
   "pygments_lexer": "ipython3",
   "version": "3.9.6"
  },
  "interpreter": {
   "hash": "effe2cc41900da91e001a07fa3e3900a946c4a4e44bc8295f3976d50fe2b3d50"
  }
 },
 "nbformat": 4,
 "nbformat_minor": 4
}